{
 "cells": [
  {
   "cell_type": "code",
   "execution_count": 1,
   "metadata": {},
   "outputs": [],
   "source": [
    "import warnings\n",
    "warnings.filterwarnings('ignore')\n",
    "import matplotlib.pyplot as plt\n",
    "from matplotlib.font_manager import FontProperties"
   ]
  },
  {
   "cell_type": "markdown",
   "metadata": {},
   "source": [
    "##  尋找matplotlib中可用字體\n",
    "註：需知道中文字體的英文名稱"
   ]
  },
  {
   "cell_type": "code",
   "execution_count": 2,
   "metadata": {},
   "outputs": [
    {
     "data": {
      "text/plain": [
       "['STIXSizeTwoSym',\n",
       " 'DejaVu Sans',\n",
       " 'STIXSizeThreeSym',\n",
       " 'DejaVu Serif Display',\n",
       " 'STIXSizeFourSym',\n",
       " 'cmtt10',\n",
       " 'DejaVu Sans',\n",
       " 'STIXSizeFourSym',\n",
       " 'DejaVu Sans',\n",
       " 'DejaVu Sans',\n",
       " 'STIXSizeOneSym',\n",
       " 'DejaVu Sans Mono',\n",
       " 'DejaVu Sans Mono',\n",
       " 'DejaVu Serif',\n",
       " 'STIXGeneral',\n",
       " 'cmmi10',\n",
       " 'STIXSizeFiveSym',\n",
       " 'STIXSizeThreeSym',\n",
       " 'STIXGeneral',\n",
       " 'DejaVu Sans Mono',\n",
       " 'STIXSizeTwoSym',\n",
       " 'cmb10',\n",
       " 'STIXNonUnicode',\n",
       " 'STIXNonUnicode',\n",
       " 'DejaVu Serif',\n",
       " 'cmex10',\n",
       " 'cmss10',\n",
       " 'STIXSizeOneSym',\n",
       " 'cmr10',\n",
       " 'STIXNonUnicode',\n",
       " 'DejaVu Sans Mono',\n",
       " 'DejaVu Serif',\n",
       " 'STIXGeneral',\n",
       " 'STIXNonUnicode',\n",
       " 'DejaVu Sans Display',\n",
       " 'DejaVu Serif',\n",
       " 'STIXGeneral',\n",
       " 'cmsy10',\n",
       " 'Viner Hand ITC',\n",
       " 'Century Schoolbook',\n",
       " 'Brush Script MT',\n",
       " 'Corbel',\n",
       " 'Footlight MT Light',\n",
       " 'Malgun Gothic',\n",
       " 'Harlow Solid Italic',\n",
       " 'Georgia',\n",
       " 'Segoe Print',\n",
       " 'Niagara Engraved',\n",
       " 'Tw Cen MT Condensed',\n",
       " 'Century Schoolbook',\n",
       " 'Showcard Gothic',\n",
       " 'Trebuchet MS',\n",
       " 'Microsoft YaHei',\n",
       " 'Candara',\n",
       " 'Parchment',\n",
       " 'Rockwell',\n",
       " 'Informal Roman',\n",
       " 'Lucida Sans',\n",
       " 'Vladimir Script',\n",
       " 'Rage Italic',\n",
       " 'MS Reference Sans Serif',\n",
       " 'Verdana',\n",
       " 'Calisto MT',\n",
       " 'Tempus Sans ITC',\n",
       " 'Lucida Sans Typewriter',\n",
       " 'Dubai',\n",
       " 'Corbel',\n",
       " 'Calibri',\n",
       " 'Bahnschrift',\n",
       " 'Lucida Bright',\n",
       " 'Lucida Bright',\n",
       " 'Myanmar Text',\n",
       " 'Microsoft YaHei',\n",
       " 'Corbel',\n",
       " 'Palatino Linotype',\n",
       " 'Freestyle Script',\n",
       " 'MS Gothic',\n",
       " 'Wide Latin',\n",
       " 'Lucida Bright',\n",
       " 'Vivaldi',\n",
       " 'Eras Light ITC',\n",
       " 'Microsoft YaHei',\n",
       " 'Lucida Sans Typewriter',\n",
       " 'Magneto',\n",
       " 'Georgia',\n",
       " 'Verdana',\n",
       " 'Gill Sans MT',\n",
       " 'Algerian',\n",
       " 'Malgun Gothic',\n",
       " 'Poor Richard',\n",
       " 'Courier New',\n",
       " 'Corbel',\n",
       " 'Gadugi',\n",
       " 'Impact',\n",
       " 'Felix Titling',\n",
       " 'Arial',\n",
       " 'Yu Gothic',\n",
       " 'Lucida Sans Typewriter',\n",
       " 'Curlz MT',\n",
       " 'Papyrus',\n",
       " 'Segoe UI',\n",
       " 'Leelawadee UI',\n",
       " 'Arial',\n",
       " 'Microsoft Sans Serif',\n",
       " 'Playbill',\n",
       " 'Bodoni MT',\n",
       " 'Century',\n",
       " 'Dubai',\n",
       " 'Modern No. 20',\n",
       " 'Consolas',\n",
       " 'Agency FB',\n",
       " 'Microsoft Yi Baiti',\n",
       " 'Kunstler Script',\n",
       " 'Bookman Old Style',\n",
       " 'Bell MT',\n",
       " 'Perpetua Titling MT',\n",
       " 'Arial',\n",
       " 'Segoe UI Emoji',\n",
       " 'OCR A Extended',\n",
       " 'Sitka Small',\n",
       " 'Constantia',\n",
       " 'French Script MT',\n",
       " 'Goudy Old Style',\n",
       " 'Calibri',\n",
       " 'Calibri',\n",
       " 'Bodoni MT',\n",
       " 'Franklin Gothic Heavy',\n",
       " 'Microsoft JhengHei',\n",
       " 'Ravie',\n",
       " 'Times New Roman',\n",
       " 'Leelawadee',\n",
       " 'Britannic Bold',\n",
       " 'Segoe UI',\n",
       " 'Dubai',\n",
       " 'Gill Sans MT Ext Condensed Bold',\n",
       " 'Cambria',\n",
       " 'Bodoni MT',\n",
       " 'Corbel',\n",
       " 'Californian FB',\n",
       " 'Sitka Small',\n",
       " 'Eras Bold ITC',\n",
       " 'Ebrima',\n",
       " 'Yu Gothic',\n",
       " 'Rockwell',\n",
       " 'Lucida Fax',\n",
       " 'Calibri',\n",
       " 'Arial',\n",
       " 'Lucida Fax',\n",
       " 'Segoe UI',\n",
       " 'Gill Sans MT Condensed',\n",
       " 'Onyx',\n",
       " 'Gill Sans Ultra Bold Condensed',\n",
       " 'Elephant',\n",
       " 'Nirmala UI',\n",
       " 'Lucida Fax',\n",
       " 'Bookshelf Symbol 7',\n",
       " 'Yu Gothic',\n",
       " 'Palatino Linotype',\n",
       " 'Times New Roman',\n",
       " 'Candara',\n",
       " 'Book Antiqua',\n",
       " 'Goudy Old Style',\n",
       " 'Lucida Calligraphy',\n",
       " 'Ebrima',\n",
       " 'Nirmala UI',\n",
       " 'Comic Sans MS',\n",
       " 'Segoe UI',\n",
       " 'Tahoma',\n",
       " 'Franklin Gothic Demi Cond',\n",
       " 'Garamond',\n",
       " 'Tahoma',\n",
       " 'Tw Cen MT',\n",
       " 'Segoe UI',\n",
       " 'Microsoft Uighur',\n",
       " 'Calibri',\n",
       " 'Wingdings 3',\n",
       " 'DFKai-SB',\n",
       " 'Garamond',\n",
       " 'Consolas',\n",
       " 'Bell MT',\n",
       " 'Blackadder ITC',\n",
       " 'Times New Roman',\n",
       " 'Segoe Script',\n",
       " 'Segoe UI',\n",
       " 'Mongolian Baiti',\n",
       " 'Nirmala UI',\n",
       " 'Lucida Handwriting',\n",
       " 'Candara',\n",
       " 'Cambria',\n",
       " 'Goudy Old Style',\n",
       " 'Wingdings 2',\n",
       " 'Gadugi',\n",
       " 'Berlin Sans FB',\n",
       " 'Segoe Print',\n",
       " 'Constantia',\n",
       " 'SimSun-ExtB',\n",
       " 'Copperplate Gothic Light',\n",
       " 'Lucida Sans',\n",
       " 'Perpetua',\n",
       " 'Rockwell',\n",
       " 'Century Gothic',\n",
       " 'Segoe UI',\n",
       " 'Garamond',\n",
       " 'Perpetua',\n",
       " 'Century Schoolbook',\n",
       " 'Bodoni MT',\n",
       " 'MingLiU',\n",
       " 'Segoe UI',\n",
       " 'Centaur',\n",
       " 'HoloLens MDL2 Assets',\n",
       " 'Franklin Gothic Medium',\n",
       " 'Rockwell',\n",
       " 'Trebuchet MS',\n",
       " 'Chiller',\n",
       " 'Engravers MT',\n",
       " 'High Tower Text',\n",
       " 'Webdings',\n",
       " 'Edwardian Script ITC',\n",
       " 'Ink Free',\n",
       " 'Palace Script MT',\n",
       " 'Courier New',\n",
       " 'Script MT Bold',\n",
       " 'Gill Sans MT',\n",
       " 'Candara',\n",
       " 'Constantia',\n",
       " 'Lucida Console',\n",
       " 'Rockwell Condensed',\n",
       " 'High Tower Text',\n",
       " 'Book Antiqua',\n",
       " 'Segoe UI',\n",
       " 'Corbel',\n",
       " 'Microsoft JhengHei',\n",
       " 'Monotype Corsiva',\n",
       " 'Arial',\n",
       " 'Arial',\n",
       " 'Microsoft PhagsPa',\n",
       " 'Eras Medium ITC',\n",
       " 'Times New Roman',\n",
       " 'Segoe MDL2 Assets',\n",
       " 'Calisto MT',\n",
       " 'Segoe Script',\n",
       " 'Constantia',\n",
       " 'Bauhaus 93',\n",
       " 'Gill Sans MT',\n",
       " 'Segoe UI Symbol',\n",
       " 'Microsoft JhengHei',\n",
       " 'Symbol',\n",
       " 'Segoe UI Historic',\n",
       " 'Rockwell Condensed',\n",
       " 'Kristen ITC',\n",
       " 'Broadway',\n",
       " 'Rockwell Extra Bold',\n",
       " 'Consolas',\n",
       " 'Sylfaen',\n",
       " 'Georgia',\n",
       " 'Gill Sans Ultra Bold',\n",
       " 'Eras Demi ITC',\n",
       " 'Bernard MT Condensed',\n",
       " 'Leelawadee',\n",
       " 'Microsoft Tai Le',\n",
       " 'Bodoni MT',\n",
       " 'Bodoni MT',\n",
       " 'Cambria',\n",
       " 'Georgia',\n",
       " 'Californian FB',\n",
       " 'Franklin Gothic Medium',\n",
       " 'Matura MT Script Capitals',\n",
       " 'Gloucester MT Extra Condensed',\n",
       " 'Gigi',\n",
       " 'Malgun Gothic',\n",
       " 'Perpetua',\n",
       " 'Perpetua Titling MT',\n",
       " 'Franklin Gothic Demi',\n",
       " 'Jokerman',\n",
       " 'Comic Sans MS',\n",
       " 'Calisto MT',\n",
       " 'Goudy Stout',\n",
       " 'Arial',\n",
       " 'Bodoni MT',\n",
       " 'Bookman Old Style',\n",
       " 'Book Antiqua',\n",
       " 'Book Antiqua',\n",
       " 'SimSun',\n",
       " 'Juice ITC',\n",
       " 'MS Reference Specialty',\n",
       " 'Microsoft Himalaya',\n",
       " 'Colonna MT',\n",
       " 'Tw Cen MT',\n",
       " 'Trebuchet MS',\n",
       " 'Mistral',\n",
       " 'Microsoft Tai Le',\n",
       " 'Cooper Black',\n",
       " 'Calibri',\n",
       " 'Franklin Gothic Book',\n",
       " 'Lucida Sans Unicode',\n",
       " 'Agency FB',\n",
       " 'Snap ITC',\n",
       " 'Segoe UI',\n",
       " 'Tw Cen MT Condensed',\n",
       " 'Gill Sans MT',\n",
       " 'Tw Cen MT Condensed Extra Bold',\n",
       " 'Franklin Gothic Demi',\n",
       " 'Myanmar Text',\n",
       " 'MT Extra',\n",
       " 'Calisto MT',\n",
       " 'Microsoft Uighur',\n",
       " 'Segoe UI',\n",
       " 'Bodoni MT',\n",
       " 'Courier New',\n",
       " 'Verdana',\n",
       " 'Dubai',\n",
       " 'Arial',\n",
       " 'Copperplate Gothic Bold',\n",
       " 'Cambria',\n",
       " 'Franklin Gothic Medium Cond',\n",
       " 'Perpetua',\n",
       " 'Century Gothic',\n",
       " 'MV Boli',\n",
       " 'Sitka Small',\n",
       " 'Leelawadee UI',\n",
       " 'Bookman Old Style',\n",
       " 'Marlett',\n",
       " 'Berlin Sans FB Demi',\n",
       " 'Trebuchet MS',\n",
       " 'Forte',\n",
       " 'Courier New',\n",
       " 'Lucida Sans Typewriter',\n",
       " 'Bell MT',\n",
       " 'Bodoni MT',\n",
       " 'Bookman Old Style',\n",
       " 'Verdana',\n",
       " 'Microsoft PhagsPa',\n",
       " 'Candara',\n",
       " 'Palatino Linotype',\n",
       " 'Baskerville Old Face',\n",
       " 'Stencil',\n",
       " 'MS Outlook',\n",
       " 'Microsoft New Tai Lue',\n",
       " 'Californian FB',\n",
       " 'Gabriola',\n",
       " 'Comic Sans MS',\n",
       " 'Lucida Bright',\n",
       " 'Lucida Sans',\n",
       " 'Sitka Small',\n",
       " 'Harrington',\n",
       " 'Century Gothic',\n",
       " 'Candara',\n",
       " 'Palatino Linotype',\n",
       " 'Old English Text MT',\n",
       " 'Elephant',\n",
       " 'Franklin Gothic Heavy',\n",
       " 'Wingdings',\n",
       " 'MingLiU-ExtB',\n",
       " 'Imprint MT Shadow',\n",
       " 'Bodoni MT',\n",
       " 'Pristina',\n",
       " 'Comic Sans MS',\n",
       " 'Castellar',\n",
       " 'Arial Rounded MT Bold',\n",
       " 'Leelawadee UI',\n",
       " 'Haettenschweiler',\n",
       " 'Javanese Text',\n",
       " 'Tw Cen MT',\n",
       " 'Bodoni MT',\n",
       " 'Maiandra GD',\n",
       " 'Century Gothic',\n",
       " 'Tw Cen MT',\n",
       " 'Niagara Solid',\n",
       " 'Lucida Fax',\n",
       " 'Century Schoolbook',\n",
       " 'Franklin Gothic Book',\n",
       " 'Arial',\n",
       " 'Microsoft New Tai Lue',\n",
       " 'Consolas',\n",
       " 'Bradley Hand ITC',\n",
       " 'Berlin Sans FB',\n",
       " 'Lucida Sans',\n",
       " 'Segoe UI',\n",
       " 'Yu Gothic']"
      ]
     },
     "execution_count": 2,
     "metadata": {},
     "output_type": "execute_result"
    }
   ],
   "source": [
    "import matplotlib\n",
    "[f.name for f in matplotlib.font_manager.fontManager.ttflist]"
   ]
  },
  {
   "cell_type": "markdown",
   "metadata": {
    "collapsed": true
   },
   "source": [
    "## 測試中文字體Notes:\n",
    "### Mac可用字體：SimHei\n",
    "### Windows 7可用字體：Microsoft YaHei\n",
    "### Windows 10 可用字體：Microsoft JhengHei、DFKai-SB"
   ]
  },
  {
   "cell_type": "markdown",
   "metadata": {},
   "source": [
    "# 方法一：更改 plt.rcParams['font.sans-serif'] 設定\n",
    "## Matplotlib example"
   ]
  },
  {
   "cell_type": "code",
   "execution_count": 3,
   "metadata": {},
   "outputs": [
    {
     "data": {
      "image/png": "[encoded data removed]",
      "text/plain": [
       "<Figure size 432x288 with 1 Axes>"
      ]
     },
     "metadata": {
      "needs_background": "light"
     },
     "output_type": "display_data"
    }
   ],
   "source": [
    "import matplotlib.pyplot as plt\n",
    "from matplotlib.font_manager import FontProperties\n",
    "plt.rcParams['font.sans-serif'] = ['Microsoft JhengHei'] \n",
    "\n",
    "plt.plot((1,2,3),(4,3,-1))\n",
    "plt.title(\"聲量圖\")\n",
    "plt.ylabel(\"文章數量\")\n",
    "plt.xlabel(\"品牌名稱\") \n",
    "plt.show()"
   ]
  },
  {
   "cell_type": "markdown",
   "metadata": {},
   "source": [
    "## Seaborn example"
   ]
  },
  {
   "cell_type": "code",
   "execution_count": 4,
   "metadata": {},
   "outputs": [
    {
     "data": {
      "text/plain": [
       "<matplotlib.axes._subplots.AxesSubplot at 0x229c0f11e08>"
      ]
     },
     "execution_count": 4,
     "metadata": {},
     "output_type": "execute_result"
    },
    {
     "data": {
      "image/png": "[encoded data removed]",
      "text/plain": [
       "<Figure size 432x288 with 1 Axes>"
      ]
     },
     "metadata": {
      "needs_background": "light"
     },
     "output_type": "display_data"
    }
   ],
   "source": [
    "#from matplotlib.font_manager import FontProperties\n",
    "import seaborn as sns\n",
    "#sns.set(font=['sans-serif'])\n",
    "#sns.set_style(\"whitegrid\",{\"font.sans-serif\":['Microsoft JhengHei']})\n",
    "cities_counter = [('好棒', 285), ('給我', 225), ('不要', 163), ('細柔', 136), ('吃飯', 130), ('小小', 124), ('深圳', 88), ('温州', 67), ('小知', 66), ('大之', 45)]\n",
    "sns.set_color_codes(\"pastel\")\n",
    "sns.barplot(x=[k for k, _ in cities_counter[:10]], y=[v for _, v in cities_counter[:10]])"
   ]
  },
  {
   "cell_type": "markdown",
   "metadata": {},
   "source": [
    "# 方法二：更改 plt.rcParams['font.family'] 設定"
   ]
  },
  {
   "cell_type": "code",
   "execution_count": 6,
   "metadata": {},
   "outputs": [
    {
     "data": {
      "image/png": "[encoded data removed]",
      "text/plain": [
       "<Figure size 432x288 with 1 Axes>"
      ]
     },
     "metadata": {},
     "output_type": "display_data"
    }
   ],
   "source": [
    "import matplotlib.pyplot as plt\n",
    "plt.style.use('ggplot')\n",
    "\n",
    "fig = plt.figure(figsize=(6,4))\n",
    "x = [1,2,3,4,5]\n",
    "y = [123,432,823,192,12]\n",
    "\n",
    "plt.rcParams['font.family']='DFKai-SB' #使用中文字體（黑體）\n",
    "\n",
    "plt.bar(x,y,align='center')\n",
    "plt.title('中文標題') #標題名稱\n",
    "plt.xlabel('X軸') #X軸名稱\n",
    "plt.ylabel('Y軸') #Y軸名稱\n",
    "plt.xticks(x, ['刻度A','刻度B','刻度C','刻度D','刻度E']) #X軸刻度名稱\n",
    "\n",
    "plt.show()"
   ]
  },
  {
   "cell_type": "markdown",
   "metadata": {},
   "source": [
    "# 方法三：每次作圖使用特定字體"
   ]
  },
  {
   "cell_type": "code",
   "execution_count": 7,
   "metadata": {},
   "outputs": [
    {
     "name": "stderr",
     "output_type": "stream",
     "text": [
      "findfont: Font family ['SetoFont'] not found. Falling back to DejaVu Sans.\n",
      "findfont: Font family ['SimHei'] not found. Falling back to DejaVu Sans.\n"
     ]
    },
    {
     "data": {
      "image/png": "[encoded data removed]",
      "text/plain": [
       "<Figure size 432x288 with 1 Axes>"
      ]
     },
     "metadata": {},
     "output_type": "display_data"
    }
   ],
   "source": [
    "font1 = {'fontname':'SetoFont'}\n",
    "font2 = {'fontname':'SimSun'}\n",
    "font3 = {'fontname':'SimHei'}\n",
    "\n",
    "plt.bar(x,y,align='center')\n",
    "plt.title('瀨戶字體標題',**font1, fontsize=18) #標題名稱\n",
    "plt.xlabel('新宋字體X軸',**font2, fontsize=18) #X軸名稱\n",
    "plt.ylabel('黑體Y軸',**font3, fontsize=18) #Y軸名稱\n",
    "plt.show()"
   ]
  },
  {
   "cell_type": "markdown",
   "metadata": {},
   "source": [
    "# 方法四、自訂字體型式\n",
    "### 下載`.ttf`字體檔，直接指定字體路徑"
   ]
  },
  {
   "cell_type": "code",
   "execution_count": 8,
   "metadata": {},
   "outputs": [
    {
     "data": {
      "image/png": "[encoded data removed]",
      "text/plain": [
       "<Figure size 432x288 with 1 Axes>"
      ]
     },
     "metadata": {},
     "output_type": "display_data"
    }
   ],
   "source": [
    "from matplotlib.font_manager import FontProperties\n",
    "font = FontProperties(fname='data/微軟正黑體.ttf')\n",
    "\n",
    "plt.bar((1,2,3),(4,3,-1),align='center')\n",
    "plt.title('微軟正黑體標題',fontproperties=font, fontsize=18) #標題名稱\n",
    "plt.xlabel('微軟正黑體X軸',fontproperties=font, fontsize=18) #X軸名稱\n",
    "plt.ylabel('微軟正黑體Y軸',fontproperties=font, fontsize=18) #Y軸名稱\n",
    "plt.show()"
   ]
  },
  {
   "cell_type": "code",
   "execution_count": null,
   "metadata": {},
   "outputs": [],
   "source": []
  }
 ],
 "metadata": {
  "anaconda-cloud": {},
  "kernelspec": {
   "display_name": "Python 3",
   "language": "python",
   "name": "python3"
  },
  "language_info": {
   "codemirror_mode": {
    "name": "ipython",
    "version": 3
   },
   "file_extension": ".py",
   "mimetype": "text/x-python",
   "name": "python",
   "nbconvert_exporter": "python",
   "pygments_lexer": "ipython3",
   "version": "3.7.4"
  }
 },
 "nbformat": 4,
 "nbformat_minor": 1
}
